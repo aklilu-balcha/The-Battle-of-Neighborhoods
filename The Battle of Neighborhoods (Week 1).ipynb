{
    "cells": [
        {
            "cell_type": "markdown",
            "metadata": {
                "collapsed": true
            },
            "source": "The Battle of Neighborhoods"
        },
        {
            "cell_type": "markdown",
            "metadata": {},
            "source": "Introduction \n\nAddis Ababa is the capital city of Ethiopia and the African Union and is often called the \"African Capital\" due to its historical, diplomatic, and political significance for the continent. Located in the foothills of the Entoto Mountains and standing 7,726 feet (2,355 meters) above sea level, it is the third highest capital in the world. It is located in the geographic center of the country. The fossilized skeleton, and a plaster replica, of the early hominid Lucy (known in Ethiopia as Dinkinesh) is preserved at the Ethiopian National Museum in Addis Ababa. The city is home to the Ethiopian National Library, the Ethiopian Ethnological Museum (and former palace), the Addis Ababa Museum, the Ethiopian Natural History Museum, the Ethiopian Railway Museum and the National Postal Museum.\nBusiness Problem \n\nOpening of Hotel/Restaurant Shop\n\nI would like to open a hotel/restaurant at the center of Addis Ababa.As it is a tourist and diplomatic spot,there is already lots of attention towards it.I know there will be many competitors in terms of hotel and restauramt.But keeping them in mind,i need to locate my hotel in place where more people are attracted and comfortable for a stay and a good meal.I want to bring foreign and local peoples attention towards my new hotel.I would like to flavour my restaurant recipe with Italian,American,typical Cultural foods to grab their taste.\nThe challenge is to find a suitable location for opening a new hotel / restaurant attracted to all local and foreign people in the centre of all famous venues.\nExpected / Interested Audience\n60% local and 40% foreign peoples visit hotel / restaurant once in a year.Some people stay for couple of days or more.Also they find some place for hangout or a good meal.Their main focus might be belonging to stay somewhere near to reach venues.\nData section What data is used?\nWe will be completely working on Foursquare data to explore and try to locate our new hotel where more venues like church, temples, beach, museums, memorials that are present nearby.\nHow will we be solving using this data?\nWe will looking for midpoint area of venues to locate our new hotel.Before that our major focus will be on all venues present in and around the core place.\n\n"
        }
    ],
    "metadata": {
        "kernelspec": {
            "display_name": "Python 3.6",
            "language": "python",
            "name": "python3"
        },
        "language_info": {
            "codemirror_mode": {
                "name": "ipython",
                "version": 3
            },
            "file_extension": ".py",
            "mimetype": "text/x-python",
            "name": "python",
            "nbconvert_exporter": "python",
            "pygments_lexer": "ipython3",
            "version": "3.6.9"
        }
    },
    "nbformat": 4,
    "nbformat_minor": 1
}